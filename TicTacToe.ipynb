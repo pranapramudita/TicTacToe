{
 "cells": [
  {
   "cell_type": "markdown",
   "metadata": {},
   "source": [
    "# TIC TAC TOE GAMES"
   ]
  },
  {
   "cell_type": "code",
   "execution_count": 1,
   "metadata": {},
   "outputs": [],
   "source": [
    "import random as rd\n",
    "from IPython.display import clear_output\n",
    "from tabulate import tabulate"
   ]
  },
  {
   "cell_type": "code",
   "execution_count": 19,
   "metadata": {},
   "outputs": [],
   "source": [
    "player = [1,2]\n",
    "O = 'O'\n",
    "X = 'X'\n",
    "K = ' '"
   ]
  },
  {
   "cell_type": "markdown",
   "metadata": {},
   "source": [
    "## Function"
   ]
  },
  {
   "cell_type": "code",
   "execution_count": 20,
   "metadata": {},
   "outputs": [],
   "source": [
    "def gantian(iPLayer):\n",
    "    if iPLayer == 1:\n",
    "        iPLayer = 2\n",
    "    elif iPLayer == 2:\n",
    "        iPLayer = 1\n",
    "    return iPLayer"
   ]
  },
  {
   "cell_type": "code",
   "execution_count": 21,
   "metadata": {},
   "outputs": [],
   "source": [
    "def isi(iPLayer,val):\n",
    "    if iPLayer == 1:\n",
    "        games[val] = O\n",
    "    elif iPLayer == 2:\n",
    "        games[val] = X"
   ]
  },
  {
   "cell_type": "code",
   "execution_count": 22,
   "metadata": {},
   "outputs": [],
   "source": [
    "def checkFull(games):\n",
    "    full = True\n",
    "    for i in range(len(games)):\n",
    "        if((games[i]) == K):\n",
    "            full = False\n",
    "    return full"
   ]
  },
  {
   "cell_type": "code",
   "execution_count": 23,
   "metadata": {},
   "outputs": [],
   "source": [
    "def allTrue(x):\n",
    "    final = True\n",
    "    for i in range(len(x)):\n",
    "        if(x[i] == False):\n",
    "            final = False\n",
    "    return final"
   ]
  },
  {
   "cell_type": "code",
   "execution_count": 24,
   "metadata": {},
   "outputs": [],
   "source": [
    "def equal(a,b):\n",
    "    if(a == b):\n",
    "        return True\n",
    "    else:\n",
    "        return False"
   ]
  },
  {
   "cell_type": "code",
   "execution_count": 25,
   "metadata": {},
   "outputs": [],
   "source": [
    "def printTable(games):\n",
    "    for i in range(0,8,3):\n",
    "        for j in range(i,i+3):\n",
    "            print(games[j], end = K)\n",
    "        print('')"
   ]
  },
  {
   "cell_type": "code",
   "execution_count": 26,
   "metadata": {},
   "outputs": [],
   "source": [
    "def gaco(i):\n",
    "    if(i == 1):\n",
    "        return X\n",
    "    else:\n",
    "        return O"
   ]
  },
  {
   "cell_type": "markdown",
   "metadata": {},
   "source": [
    "## Check Win"
   ]
  },
  {
   "cell_type": "code",
   "execution_count": 35,
   "metadata": {},
   "outputs": [],
   "source": [
    "def checkWin(games):\n",
    "    iWin = 0\n",
    "    # Line Horizon\n",
    "    for j in range(0,9,3):\n",
    "        if(equal(games[j],O)):\n",
    "            temp = O\n",
    "        elif(equal(games[j],X)):\n",
    "            temp = X\n",
    "        else:\n",
    "            break\n",
    "        for i in range(j,j+3):\n",
    "            if(equal(games[i],temp)):\n",
    "                iWin += 1\n",
    "            else:\n",
    "                iWin = 0\n",
    "                break\n",
    "        if(iWin == 3):\n",
    "            return True\n",
    "    \n",
    "    # Line Vertical\n",
    "    for j in range(0,3):\n",
    "        if(equal(games[j],O)):\n",
    "            temp = O\n",
    "        elif(equal(games[j],X)):\n",
    "            temp = X\n",
    "        else:\n",
    "            break\n",
    "        for i in range(j,j+9,3):\n",
    "            if(equal(games[i],temp)):\n",
    "                iWin += 1\n",
    "            else:\n",
    "                iWin = 0\n",
    "                break\n",
    "        if(iWin == 3):\n",
    "            return True\n",
    "                \n",
    "    # Diagonal\n",
    "    for j in range(0,3,2):\n",
    "        if(equal(games[j],O)):\n",
    "            temp = O\n",
    "        elif(equal(games[j],X)):\n",
    "            temp = X\n",
    "        else:\n",
    "            break\n",
    "        if(j == 0):\n",
    "            for i in range(j,9,4):\n",
    "                if(equal(games[i],temp)):\n",
    "                    iWin += 1\n",
    "                else:\n",
    "                    iWin = 0\n",
    "                    break\n",
    "            if(iWin == 3):\n",
    "                return True\n",
    "        elif(j == 2):\n",
    "            for i in range(j,7,2):\n",
    "                if(equal(games[i],temp)):\n",
    "                    iWin += 1\n",
    "                else:\n",
    "                    iWin = 0\n",
    "                    break\n",
    "            if(iWin == 3):\n",
    "                return True\n",
    "            \n",
    "    return False"
   ]
  },
  {
   "cell_type": "markdown",
   "metadata": {},
   "source": [
    "### Win Diagonal "
   ]
  },
  {
   "cell_type": "code",
   "execution_count": 28,
   "metadata": {},
   "outputs": [
    {
     "name": "stdout",
     "output_type": "stream",
     "text": [
      "O X O \n",
      "X O X \n",
      "X O O \n"
     ]
    },
    {
     "data": {
      "text/plain": [
       "True"
      ]
     },
     "execution_count": 28,
     "metadata": {},
     "output_type": "execute_result"
    }
   ],
   "source": [
    "games = [O,X,O,X,O,X,X,O,O]\n",
    "printTable(games)\n",
    "checkWin(games)"
   ]
  },
  {
   "cell_type": "markdown",
   "metadata": {},
   "source": [
    "### Win Vertical "
   ]
  },
  {
   "cell_type": "code",
   "execution_count": 45,
   "metadata": {},
   "outputs": [
    {
     "name": "stdout",
     "output_type": "stream",
     "text": [
      "O X X \n",
      "O O X \n",
      "X O X \n"
     ]
    },
    {
     "data": {
      "text/plain": [
       "True"
      ]
     },
     "execution_count": 45,
     "metadata": {},
     "output_type": "execute_result"
    }
   ],
   "source": [
    "games = [O,X,X,O,O,X,X,O,X]\n",
    "printTable(games)\n",
    "checkWin(games)"
   ]
  },
  {
   "cell_type": "markdown",
   "metadata": {},
   "source": [
    "### Win Horizon"
   ]
  },
  {
   "cell_type": "code",
   "execution_count": 30,
   "metadata": {},
   "outputs": [
    {
     "name": "stdout",
     "output_type": "stream",
     "text": [
      "X O X \n",
      "X X X \n",
      "O X O \n"
     ]
    },
    {
     "data": {
      "text/plain": [
       "True"
      ]
     },
     "execution_count": 30,
     "metadata": {},
     "output_type": "execute_result"
    }
   ],
   "source": [
    "games = [X,O,X,X,X,X,O,X,O]\n",
    "printTable(games)\n",
    "checkWin(games)"
   ]
  },
  {
   "cell_type": "markdown",
   "metadata": {},
   "source": [
    "## Main"
   ]
  },
  {
   "cell_type": "code",
   "execution_count": 37,
   "metadata": {},
   "outputs": [
    {
     "name": "stdout",
     "output_type": "stream",
     "text": [
      "1 2 3 \n",
      "4 5 6 \n",
      "7 8 9 \n",
      "X O O \n",
      "X O   \n",
      "X X O \n",
      "True\n"
     ]
    }
   ],
   "source": [
    "games = [K,K,K,K,K,K,K,K,K]\n",
    "contoh = [1,2,3,4,5,6,7,8,9]\n",
    "iPLayer = rd.choice(player)\n",
    "printTable(contoh)\n",
    "printTable(games)\n",
    "while not checkWin(games) and not checkFull(games):\n",
    "    print('player',iPLayer,'(',gaco(iPLayer),')','jalan')\n",
    "    val = input('input 1-9:')\n",
    "    clear_output()\n",
    "    valcon = int(val)\n",
    "    valcon = valcon-1\n",
    "    iPLayer = gantian(iPLayer)\n",
    "    isi(iPLayer,valcon)\n",
    "    printTable(contoh)\n",
    "    printTable(games)\n",
    "print(checkWin(games))"
   ]
  }
 ],
 "metadata": {
  "kernelspec": {
   "display_name": "Python 3",
   "language": "python",
   "name": "python3"
  },
  "language_info": {
   "codemirror_mode": {
    "name": "ipython",
    "version": 3
   },
   "file_extension": ".py",
   "mimetype": "text/x-python",
   "name": "python",
   "nbconvert_exporter": "python",
   "pygments_lexer": "ipython3",
   "version": "3.7.4"
  }
 },
 "nbformat": 4,
 "nbformat_minor": 4
}
