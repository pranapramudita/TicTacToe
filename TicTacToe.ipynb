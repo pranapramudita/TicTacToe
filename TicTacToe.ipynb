{
 "cells": [
  {
   "cell_type": "markdown",
   "metadata": {},
   "source": [
    "# TIC TAC TOE GAMES"
   ]
  },
  {
   "cell_type": "code",
   "execution_count": 1,
   "metadata": {},
   "outputs": [],
   "source": [
    "import random as rd\n",
    "from IPython.display import clear_output\n",
    "from tabulate import tabulate"
   ]
  },
  {
   "cell_type": "code",
   "execution_count": 2,
   "metadata": {},
   "outputs": [],
   "source": [
    "player = [1,2]\n",
    "O = 'O'\n",
    "X = 'X'\n",
    "K = ' '"
   ]
  },
  {
   "cell_type": "markdown",
   "metadata": {},
   "source": [
    "## Function"
   ]
  },
  {
   "cell_type": "code",
   "execution_count": 3,
   "metadata": {},
   "outputs": [],
   "source": [
    "def gantian(iPLayer):\n",
    "    if iPLayer == 1:\n",
    "        iPLayer = 2\n",
    "    elif iPLayer == 2:\n",
    "        iPLayer = 1\n",
    "    return iPLayer"
   ]
  },
  {
   "cell_type": "code",
   "execution_count": 4,
   "metadata": {},
   "outputs": [],
   "source": [
    "def isi(valcon,iPlayer):\n",
    "    games[valcon] = gaco(iPlayer)"
   ]
  },
  {
   "cell_type": "code",
   "execution_count": 5,
   "metadata": {},
   "outputs": [],
   "source": [
    "def checkFull(games):\n",
    "    full = True\n",
    "    for i in range(len(games)):\n",
    "        if((games[i]) == K):\n",
    "            full = False\n",
    "    return full"
   ]
  },
  {
   "cell_type": "code",
   "execution_count": 6,
   "metadata": {},
   "outputs": [],
   "source": [
    "def allTrue(x):\n",
    "    final = True\n",
    "    for i in range(len(x)):\n",
    "        if(x[i] == False):\n",
    "            final = False\n",
    "    return final"
   ]
  },
  {
   "cell_type": "code",
   "execution_count": 7,
   "metadata": {},
   "outputs": [],
   "source": [
    "def equal(a,b):\n",
    "    if(a is b):\n",
    "        return True\n",
    "    else:\n",
    "        return False"
   ]
  },
  {
   "cell_type": "code",
   "execution_count": 8,
   "metadata": {},
   "outputs": [],
   "source": [
    "def printTable(games):\n",
    "    for i in range(0,8,3):\n",
    "        for j in range(i,i+3):\n",
    "            print(games[j], end = K)\n",
    "        print('')"
   ]
  },
  {
   "cell_type": "code",
   "execution_count": 9,
   "metadata": {},
   "outputs": [],
   "source": [
    "def gaco(i):\n",
    "    if(i == 1):\n",
    "        return O\n",
    "    elif(i == 2):\n",
    "        return X"
   ]
  },
  {
   "cell_type": "markdown",
   "metadata": {},
   "source": [
    "### Direction Function"
   ]
  },
  {
   "cell_type": "code",
   "execution_count": 10,
   "metadata": {},
   "outputs": [],
   "source": [
    "def up(i):\n",
    "    if(equal(i,0)):\n",
    "        return False\n",
    "    elif(equal(i,1)):\n",
    "        return False\n",
    "    elif(equal(i,2)):\n",
    "        return False\n",
    "    else:\n",
    "        return i-3"
   ]
  },
  {
   "cell_type": "code",
   "execution_count": 11,
   "metadata": {},
   "outputs": [],
   "source": [
    "def down(i):\n",
    "    if(equal(i,6)):\n",
    "        return False\n",
    "    elif(equal(i,7)):\n",
    "        return False\n",
    "    elif(equal(i,8)):\n",
    "        return False\n",
    "    else:\n",
    "        return i+3"
   ]
  },
  {
   "cell_type": "code",
   "execution_count": 12,
   "metadata": {},
   "outputs": [],
   "source": [
    "def left(i):\n",
    "    if(equal(i,0)):\n",
    "        return False\n",
    "    elif(equal(i,3)):\n",
    "        return False\n",
    "    elif(equal(i,6)):\n",
    "        return False\n",
    "    else:\n",
    "        return i-1"
   ]
  },
  {
   "cell_type": "code",
   "execution_count": 13,
   "metadata": {},
   "outputs": [],
   "source": [
    "def right(i):\n",
    "    if(equal(i,2)):\n",
    "        return False\n",
    "    elif(equal(i,5)):\n",
    "        return False\n",
    "    elif(equal(i,8)):\n",
    "        return False\n",
    "    else:\n",
    "        return i+1"
   ]
  },
  {
   "cell_type": "code",
   "execution_count": 14,
   "metadata": {},
   "outputs": [],
   "source": [
    "def lup(i):\n",
    "    if(equal(i,0)):\n",
    "        return False\n",
    "    elif(equal(i,1)):\n",
    "        return False\n",
    "    elif(equal(i,2)):\n",
    "        return False\n",
    "    elif(equal(i,3)):\n",
    "        return False\n",
    "    elif(equal(i,6)):\n",
    "        return False\n",
    "    else:\n",
    "        return i-4"
   ]
  },
  {
   "cell_type": "code",
   "execution_count": 15,
   "metadata": {},
   "outputs": [],
   "source": [
    "def rup(i):\n",
    "    if(equal(i,0)):\n",
    "        return False\n",
    "    elif(equal(i,1)):\n",
    "        return False\n",
    "    elif(equal(i,2)):\n",
    "        return False\n",
    "    elif(equal(i,5)):\n",
    "        return False\n",
    "    elif(equal(i,8)):\n",
    "        return False\n",
    "    else:\n",
    "        return i-2"
   ]
  },
  {
   "cell_type": "code",
   "execution_count": 16,
   "metadata": {},
   "outputs": [],
   "source": [
    "def lown(i):\n",
    "    if(equal(i,0)):\n",
    "        return False\n",
    "    elif(equal(i,3)):\n",
    "        return False\n",
    "    elif(equal(i,6)):\n",
    "        return False\n",
    "    elif(equal(i,7)):\n",
    "        return False\n",
    "    elif(equal(i,8)):\n",
    "        return False\n",
    "    else:\n",
    "        return i+2"
   ]
  },
  {
   "cell_type": "code",
   "execution_count": 17,
   "metadata": {},
   "outputs": [],
   "source": [
    "def rown(i):\n",
    "    if(equal(i,2)):\n",
    "        return False\n",
    "    elif(equal(i,5)):\n",
    "        return False\n",
    "    elif(equal(i,6)):\n",
    "        return False\n",
    "    elif(equal(i,7)):\n",
    "        return False\n",
    "    elif(equal(i,8)):\n",
    "        return False\n",
    "    else:\n",
    "        return i+4"
   ]
  },
  {
   "cell_type": "code",
   "execution_count": 18,
   "metadata": {},
   "outputs": [
    {
     "name": "stdout",
     "output_type": "stream",
     "text": [
      "0 1 2 \n",
      "3 4 5 \n",
      "6 7 8 \n",
      "0 False | 1 False | 2 False | 3 0 | 4 1 | 5 2 | 6 3 | 7 4 | 8 5 | "
     ]
    }
   ],
   "source": [
    "contoh2 = range(9)\n",
    "printTable(contoh2)\n",
    "for i in range(9):\n",
    "    print(i,up(i),end=' | ')"
   ]
  },
  {
   "cell_type": "markdown",
   "metadata": {},
   "source": [
    "## Check Win"
   ]
  },
  {
   "cell_type": "code",
   "execution_count": 19,
   "metadata": {},
   "outputs": [],
   "source": [
    "def lineHorizon(games,iWin):\n",
    "    for j in range(0,9,3):\n",
    "        if(equal(games[j],O)):\n",
    "            temp = O\n",
    "        elif(equal(games[j],X)):\n",
    "            temp = X\n",
    "        else:\n",
    "            break\n",
    "        for i in range(j,j+3):\n",
    "            if(equal(games[i],temp)):\n",
    "                iWin += 1\n",
    "            else:\n",
    "                iWin = 0\n",
    "                break\n",
    "        if(iWin == 3):\n",
    "            return True"
   ]
  },
  {
   "cell_type": "code",
   "execution_count": 20,
   "metadata": {},
   "outputs": [],
   "source": [
    "def lineVertical(games,iWin):\n",
    "    for j in range(0,3):\n",
    "        if(equal(games[j],O)):\n",
    "            temp = O\n",
    "        elif(equal(games[j],X)):\n",
    "            temp = X\n",
    "        else:\n",
    "            break\n",
    "        for i in range(j,j+9,3):\n",
    "            if(equal(games[i],temp)):\n",
    "                iWin += 1\n",
    "            else:\n",
    "                iWin = 0\n",
    "                break\n",
    "        if(iWin == 3):\n",
    "            return True"
   ]
  },
  {
   "cell_type": "code",
   "execution_count": 21,
   "metadata": {},
   "outputs": [],
   "source": [
    "def diagonal(games,iWin):\n",
    "    for j in range(0,3,2):\n",
    "        if(equal(games[j],O)):\n",
    "            temp = O\n",
    "        elif(equal(games[j],X)):\n",
    "            temp = X\n",
    "        else:\n",
    "            break\n",
    "        if(j == 0):\n",
    "            for i in range(j,9,4):\n",
    "                if(equal(games[i],temp)):\n",
    "                    iWin += 1\n",
    "                else:\n",
    "                    iWin = 0\n",
    "                    break\n",
    "            if(iWin == 3):\n",
    "                return True\n",
    "        elif(j == 2):\n",
    "            for i in range(j,7,2):\n",
    "                if(equal(games[i],temp)):\n",
    "                    iWin += 1\n",
    "                else:\n",
    "                    iWin = 0\n",
    "                    break\n",
    "            if(iWin == 3):\n",
    "                return True"
   ]
  },
  {
   "cell_type": "code",
   "execution_count": 22,
   "metadata": {},
   "outputs": [],
   "source": [
    "def checkWin(games):\n",
    "    iWin = 0\n",
    "    if(lineHorizon(games,iWin)):\n",
    "        return True\n",
    "    if(lineVertical(games,iWin)):\n",
    "        return True\n",
    "    if(diagonal(games,iWin)):\n",
    "        return True \n",
    "    return False"
   ]
  },
  {
   "cell_type": "markdown",
   "metadata": {},
   "source": [
    "### Win Diagonal "
   ]
  },
  {
   "cell_type": "code",
   "execution_count": 23,
   "metadata": {},
   "outputs": [
    {
     "name": "stdout",
     "output_type": "stream",
     "text": [
      "O X O \n",
      "X O X \n",
      "X O O \n"
     ]
    },
    {
     "data": {
      "text/plain": [
       "True"
      ]
     },
     "execution_count": 23,
     "metadata": {},
     "output_type": "execute_result"
    }
   ],
   "source": [
    "games = [O,X,O,X,O,X,X,O,O]\n",
    "printTable(games)\n",
    "checkWin(games)"
   ]
  },
  {
   "cell_type": "markdown",
   "metadata": {},
   "source": [
    "### Win Vertical "
   ]
  },
  {
   "cell_type": "code",
   "execution_count": 24,
   "metadata": {},
   "outputs": [
    {
     "name": "stdout",
     "output_type": "stream",
     "text": [
      "O X X \n",
      "O O X \n",
      "X O X \n"
     ]
    },
    {
     "data": {
      "text/plain": [
       "True"
      ]
     },
     "execution_count": 24,
     "metadata": {},
     "output_type": "execute_result"
    }
   ],
   "source": [
    "games = [O,X,X,O,O,X,X,O,X]\n",
    "printTable(games)\n",
    "checkWin(games)"
   ]
  },
  {
   "cell_type": "markdown",
   "metadata": {},
   "source": [
    "### Win Horizon"
   ]
  },
  {
   "cell_type": "code",
   "execution_count": 25,
   "metadata": {},
   "outputs": [
    {
     "name": "stdout",
     "output_type": "stream",
     "text": [
      "X O X \n",
      "X X X \n",
      "O X O \n"
     ]
    },
    {
     "data": {
      "text/plain": [
       "True"
      ]
     },
     "execution_count": 25,
     "metadata": {},
     "output_type": "execute_result"
    }
   ],
   "source": [
    "games = [X,O,X,X,X,X,O,X,O]\n",
    "printTable(games)\n",
    "checkWin(games)"
   ]
  },
  {
   "cell_type": "markdown",
   "metadata": {},
   "source": [
    "## BOT"
   ]
  },
  {
   "cell_type": "code",
   "execution_count": 53,
   "metadata": {},
   "outputs": [],
   "source": [
    "def bot(i):\n",
    "#     games = [K,K,K,K,K,K,K,K,K]\n",
    "#     contoh = range(9)\n",
    "#     printTable(contoh)\n",
    "#     printTable(games)\n",
    "    nomination = []\n",
    "    if(not equal(up(i),False) and equal(games[up(i)],K)):\n",
    "        nomination.append(up(i))\n",
    "    if(not equal(down(i),False) and equal(games[down(i)],K)):\n",
    "        nomination.append(down(i))\n",
    "    if(not equal(right(i),False) and equal(games[right(i)],K)):\n",
    "        nomination.append(right(i))\n",
    "    if(not equal(left(i),False) and equal(games[left(i)],K)):\n",
    "        nomination.append(left(i))\n",
    "    if(not equal(lup(i),False) and equal(games[lup(i)],K)):\n",
    "        nomination.append(lup(i))\n",
    "    if(not equal(rup(i),False) and equal(games[rup(i)],K)):\n",
    "        nomination.append(rup(i))\n",
    "    if(not equal(lown(i),False) and equal(games[lown(i)],K)):\n",
    "        nomination.append(lown(i))\n",
    "    if(not equal(rown(i),False) and equal(games[rown(i)],K)):\n",
    "        nomination.append(rown(i))\n",
    "    print(nomination)\n",
    "    r = rd.choice(nomination)\n",
    "    print('random',r)\n",
    "    return r"
   ]
  },
  {
   "cell_type": "markdown",
   "metadata": {},
   "source": [
    "## Main"
   ]
  },
  {
   "cell_type": "code",
   "execution_count": 69,
   "metadata": {},
   "outputs": [
    {
     "name": "stdout",
     "output_type": "stream",
     "text": [
      "step 1\n",
      "player 2 ( X ) jalan\n",
      "0 1 2 \n",
      "3 4 5 \n",
      "6 7 8 \n",
      "      \n",
      "      \n",
      "  X   \n",
      "----\n",
      "step 2\n",
      "player 1 ( O ) jalan\n",
      "[4, 8, 6, 3, 5]\n",
      "random 8\n",
      "0 1 2 \n",
      "3 4 5 \n",
      "6 7 8 \n",
      "      \n",
      "      \n",
      "  X O \n",
      "----\n",
      "step 3\n",
      "player 2 ( X ) jalan\n",
      "[4, 6, 3, 5]\n",
      "random 6\n",
      "0 1 2 \n",
      "3 4 5 \n",
      "6 7 8 \n",
      "      \n",
      "      \n",
      "X X O \n",
      "----\n",
      "step 4\n",
      "player 1 ( O ) jalan\n",
      "[3, 4]\n",
      "random 4\n",
      "0 1 2 \n",
      "3 4 5 \n",
      "6 7 8 \n",
      "      \n",
      "  O   \n",
      "X X O \n",
      "----\n",
      "step 5\n",
      "player 2 ( X ) jalan\n",
      "[3]\n",
      "random 3\n",
      "0 1 2 \n",
      "3 4 5 \n",
      "6 7 8 \n",
      "      \n",
      "X O   \n",
      "X X O \n",
      "----\n",
      "step 6\n",
      "player 1 ( O ) jalan\n",
      "[0, 1]\n",
      "random 0\n",
      "0 1 2 \n",
      "3 4 5 \n",
      "6 7 8 \n",
      "O     \n",
      "X O   \n",
      "X X O \n",
      "----\n",
      "True\n"
     ]
    }
   ],
   "source": [
    "games = [K,K,K,K,K,K,K,K,K]\n",
    "# contoh = [1,2,3,4,5,6,7,8,9]\n",
    "contoh = range(9)\n",
    "iPLayer = rd.choice(player)\n",
    "step = 1\n",
    "first = rd.randrange(0,9)\n",
    "valcon2 = rd.randrange(0,9)\n",
    "while(not checkWin(games) and not checkFull(games)):\n",
    "    print('step',step)\n",
    "    print('player',iPLayer,'(',gaco(iPLayer),')','jalan')\n",
    "    while True:\n",
    "#         val = input('input 1-9:')\n",
    "#         valcon = int(val)\n",
    "#         valcon = \n",
    "#         valcon = valcon-1\n",
    "        if(step == 1):\n",
    "            valcon1 = first\n",
    "        elif(step % 2 == 0): #even\n",
    "            valcon2 = bot(valcon1)\n",
    "        elif(step % 2 == 1): #odd\n",
    "            valcon1 = bot(valcon1)\n",
    "        if(games[valcon1] == K or games[valcon2] == K):\n",
    "            break\n",
    "    if(step == 1):\n",
    "        isi(valcon1,iPLayer)\n",
    "    elif(step % 2 == 0): #even\n",
    "        isi(valcon2,iPLayer)\n",
    "    elif(step % 2 == 1): #odd\n",
    "        isi(valcon1,iPLayer)\n",
    "    \n",
    "    iPLayer = gantian(iPLayer)\n",
    "#     clear_output()\n",
    "    printTable(contoh)\n",
    "    printTable(games)\n",
    "    step+=1\n",
    "    print('----')\n",
    "print(checkWin(games))"
   ]
  },
  {
   "cell_type": "code",
   "execution_count": null,
   "metadata": {},
   "outputs": [],
   "source": []
  }
 ],
 "metadata": {
  "kernelspec": {
   "display_name": "Python 3",
   "language": "python",
   "name": "python3"
  },
  "language_info": {
   "codemirror_mode": {
    "name": "ipython",
    "version": 3
   },
   "file_extension": ".py",
   "mimetype": "text/x-python",
   "name": "python",
   "nbconvert_exporter": "python",
   "pygments_lexer": "ipython3",
   "version": "3.7.4"
  }
 },
 "nbformat": 4,
 "nbformat_minor": 4
}
