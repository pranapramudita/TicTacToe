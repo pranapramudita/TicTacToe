{
 "cells": [
  {
   "cell_type": "markdown",
   "metadata": {},
   "source": [
    "# TIC TAC TOE GAMES"
   ]
  },
  {
   "cell_type": "code",
   "execution_count": 39,
   "metadata": {},
   "outputs": [],
   "source": [
    "import random as rd\n",
    "from IPython.display import clear_output\n",
    "from tabulate import tabulate"
   ]
  },
  {
   "cell_type": "code",
   "execution_count": 40,
   "metadata": {},
   "outputs": [],
   "source": [
    "player = [1,2]\n",
    "O = 'O'\n",
    "X = 'X'\n",
    "K = ' '"
   ]
  },
  {
   "cell_type": "markdown",
   "metadata": {},
   "source": [
    "## Function"
   ]
  },
  {
   "cell_type": "code",
   "execution_count": 41,
   "metadata": {},
   "outputs": [],
   "source": [
    "def gantian(iPLayer):\n",
    "    if iPLayer == 1:\n",
    "        iPLayer = 2\n",
    "    elif iPLayer == 2:\n",
    "        iPLayer = 1\n",
    "    return iPLayer"
   ]
  },
  {
   "cell_type": "code",
   "execution_count": 42,
   "metadata": {},
   "outputs": [],
   "source": [
    "def isi(valcon,iPlayer):\n",
    "    games[valcon] = gaco(iPlayer)"
   ]
  },
  {
   "cell_type": "code",
   "execution_count": 43,
   "metadata": {},
   "outputs": [],
   "source": [
    "def checkFull(games):\n",
    "    full = True\n",
    "    for i in range(len(games)):\n",
    "        if((games[i]) == K):\n",
    "            full = False\n",
    "    return full"
   ]
  },
  {
   "cell_type": "code",
   "execution_count": 44,
   "metadata": {},
   "outputs": [],
   "source": [
    "def allTrue(x):\n",
    "    final = True\n",
    "    for i in range(len(x)):\n",
    "        if(x[i] == False):\n",
    "            final = False\n",
    "    return final"
   ]
  },
  {
   "cell_type": "code",
   "execution_count": 66,
   "metadata": {},
   "outputs": [],
   "source": [
    "def equal(a,b):\n",
    "    if(a == b):\n",
    "        return True\n",
    "    else:\n",
    "        return False"
   ]
  },
  {
   "cell_type": "code",
   "execution_count": 67,
   "metadata": {},
   "outputs": [],
   "source": [
    "def printTable(games):\n",
    "    for i in range(0,8,3):\n",
    "        for j in range(i,i+3):\n",
    "            print(games[j], end = K)\n",
    "        print('')"
   ]
  },
  {
   "cell_type": "code",
   "execution_count": 68,
   "metadata": {},
   "outputs": [],
   "source": [
    "def gaco(i):\n",
    "    if(i == 1):\n",
    "        return O\n",
    "    elif(i == 2):\n",
    "        return X"
   ]
  },
  {
   "cell_type": "markdown",
   "metadata": {},
   "source": [
    "### Direction Function"
   ]
  },
  {
   "cell_type": "code",
   "execution_count": 69,
   "metadata": {},
   "outputs": [],
   "source": [
    "def up(i):\n",
    "    if(equal(i,0)):\n",
    "        return False\n",
    "    elif(equal(i,1)):\n",
    "        return False\n",
    "    elif(equal(i,2)):\n",
    "        return False\n",
    "    else:\n",
    "        return i-3"
   ]
  },
  {
   "cell_type": "code",
   "execution_count": 70,
   "metadata": {},
   "outputs": [],
   "source": [
    "def down(i):\n",
    "    if(equal(i,6)):\n",
    "        return False\n",
    "    elif(equal(i,7)):\n",
    "        return False\n",
    "    elif(equal(i,8)):\n",
    "        return False\n",
    "    else:\n",
    "        return i+3"
   ]
  },
  {
   "cell_type": "code",
   "execution_count": 71,
   "metadata": {},
   "outputs": [],
   "source": [
    "def left(i):\n",
    "    if(equal(i,0)):\n",
    "        return False\n",
    "    elif(equal(i,3)):\n",
    "        return False\n",
    "    elif(equal(i,6)):\n",
    "        return False\n",
    "    else:\n",
    "        return i-1"
   ]
  },
  {
   "cell_type": "code",
   "execution_count": 72,
   "metadata": {},
   "outputs": [],
   "source": [
    "def right(i):\n",
    "    if(equal(i,2)):\n",
    "        return False\n",
    "    elif(equal(i,5)):\n",
    "        return False\n",
    "    elif(equal(i,8)):\n",
    "        return False\n",
    "    else:\n",
    "        return i+1"
   ]
  },
  {
   "cell_type": "code",
   "execution_count": 73,
   "metadata": {},
   "outputs": [],
   "source": [
    "def lup(i):\n",
    "    if(equal(i,0)):\n",
    "        return False\n",
    "    elif(equal(i,1)):\n",
    "        return False\n",
    "    elif(equal(i,2)):\n",
    "        return False\n",
    "    elif(equal(i,3)):\n",
    "        return False\n",
    "    elif(equal(i,6)):\n",
    "        return False\n",
    "    else:\n",
    "        return i-4"
   ]
  },
  {
   "cell_type": "code",
   "execution_count": 74,
   "metadata": {},
   "outputs": [],
   "source": [
    "def rup(i):\n",
    "    if(equal(i,0)):\n",
    "        return False\n",
    "    elif(equal(i,1)):\n",
    "        return False\n",
    "    elif(equal(i,2)):\n",
    "        return False\n",
    "    elif(equal(i,5)):\n",
    "        return False\n",
    "    elif(equal(i,8)):\n",
    "        return False\n",
    "    else:\n",
    "        return i-2"
   ]
  },
  {
   "cell_type": "code",
   "execution_count": 75,
   "metadata": {},
   "outputs": [],
   "source": [
    "def lown(i):\n",
    "    if(equal(i,0)):\n",
    "        return False\n",
    "    elif(equal(i,3)):\n",
    "        return False\n",
    "    elif(equal(i,6)):\n",
    "        return False\n",
    "    elif(equal(i,7)):\n",
    "        return False\n",
    "    elif(equal(i,8)):\n",
    "        return False\n",
    "    else:\n",
    "        return i+2"
   ]
  },
  {
   "cell_type": "code",
   "execution_count": 76,
   "metadata": {},
   "outputs": [],
   "source": [
    "def rown(i):\n",
    "    if(equal(i,2)):\n",
    "        return False\n",
    "    elif(equal(i,5)):\n",
    "        return False\n",
    "    elif(equal(i,6)):\n",
    "        return False\n",
    "    elif(equal(i,7)):\n",
    "        return False\n",
    "    elif(equal(i,8)):\n",
    "        return False\n",
    "    else:\n",
    "        return i+4"
   ]
  },
  {
   "cell_type": "code",
   "execution_count": 77,
   "metadata": {},
   "outputs": [
    {
     "name": "stdout",
     "output_type": "stream",
     "text": [
      "0 1 2 \n",
      "3 4 5 \n",
      "6 7 8 \n",
      "0 False | 1 False | 2 False | 3 0 | 4 1 | 5 2 | 6 3 | 7 4 | 8 5 | "
     ]
    }
   ],
   "source": [
    "contoh2 = range(9)\n",
    "printTable(contoh2)\n",
    "for i in range(9):\n",
    "    print(i,up(i),end=' | ')"
   ]
  },
  {
   "cell_type": "markdown",
   "metadata": {},
   "source": [
    "## Check Win"
   ]
  },
  {
   "cell_type": "code",
   "execution_count": 78,
   "metadata": {},
   "outputs": [],
   "source": [
    "def lineHorizon(games,iWin):\n",
    "    for j in range(0,9,3):\n",
    "        if(equal(games[j],O)):\n",
    "            temp = O\n",
    "        elif(equal(games[j],X)):\n",
    "            temp = X\n",
    "        else:\n",
    "            break\n",
    "        for i in range(j,j+3):\n",
    "            if(equal(games[i],temp)):\n",
    "                iWin += 1\n",
    "            else:\n",
    "                iWin = 0\n",
    "                break\n",
    "        if(iWin == 3):\n",
    "            return True"
   ]
  },
  {
   "cell_type": "code",
   "execution_count": 79,
   "metadata": {},
   "outputs": [],
   "source": [
    "def lineVertical(games,iWin):\n",
    "    for j in range(0,3):\n",
    "        if(equal(games[j],O)):\n",
    "            temp = O\n",
    "        elif(equal(games[j],X)):\n",
    "            temp = X\n",
    "        else:\n",
    "            break\n",
    "        for i in range(j,j+9,3):\n",
    "            if(equal(games[i],temp)):\n",
    "                iWin += 1\n",
    "            else:\n",
    "                iWin = 0\n",
    "                break\n",
    "        if(iWin == 3):\n",
    "            return True"
   ]
  },
  {
   "cell_type": "code",
   "execution_count": 80,
   "metadata": {},
   "outputs": [],
   "source": [
    "def diagonal(games,iWin):\n",
    "    for j in range(0,3,2):\n",
    "        if(equal(games[j],O)):\n",
    "            temp = O\n",
    "        elif(equal(games[j],X)):\n",
    "            temp = X\n",
    "        else:\n",
    "            break\n",
    "        if(j == 0):\n",
    "            for i in range(j,9,4):\n",
    "                if(equal(games[i],temp)):\n",
    "                    iWin += 1\n",
    "                else:\n",
    "                    iWin = 0\n",
    "                    break\n",
    "            if(iWin == 3):\n",
    "                return True\n",
    "        elif(j == 2):\n",
    "            for i in range(j,7,2):\n",
    "                if(equal(games[i],temp)):\n",
    "                    iWin += 1\n",
    "                else:\n",
    "                    iWin = 0\n",
    "                    break\n",
    "            if(iWin == 3):\n",
    "                return True"
   ]
  },
  {
   "cell_type": "code",
   "execution_count": 81,
   "metadata": {},
   "outputs": [],
   "source": [
    "def checkWin(games):\n",
    "    iWin = 0\n",
    "    if(lineHorizon(games,iWin)):\n",
    "        return True\n",
    "    if(lineVertical(games,iWin)):\n",
    "        return True\n",
    "    if(diagonal(games,iWin)):\n",
    "        return True \n",
    "    return False"
   ]
  },
  {
   "cell_type": "markdown",
   "metadata": {},
   "source": [
    "### Win Diagonal "
   ]
  },
  {
   "cell_type": "code",
   "execution_count": 82,
   "metadata": {},
   "outputs": [
    {
     "name": "stdout",
     "output_type": "stream",
     "text": [
      "O X O \n",
      "X O X \n",
      "X O O \n"
     ]
    },
    {
     "data": {
      "text/plain": [
       "True"
      ]
     },
     "execution_count": 82,
     "metadata": {},
     "output_type": "execute_result"
    }
   ],
   "source": [
    "games = [O,X,O,X,O,X,X,O,O]\n",
    "printTable(games)\n",
    "checkWin(games)"
   ]
  },
  {
   "cell_type": "markdown",
   "metadata": {},
   "source": [
    "### Win Vertical "
   ]
  },
  {
   "cell_type": "code",
   "execution_count": 83,
   "metadata": {},
   "outputs": [
    {
     "name": "stdout",
     "output_type": "stream",
     "text": [
      "O X X \n",
      "O O X \n",
      "X O X \n"
     ]
    },
    {
     "data": {
      "text/plain": [
       "True"
      ]
     },
     "execution_count": 83,
     "metadata": {},
     "output_type": "execute_result"
    }
   ],
   "source": [
    "games = [O,X,X,O,O,X,X,O,X]\n",
    "printTable(games)\n",
    "checkWin(games)"
   ]
  },
  {
   "cell_type": "markdown",
   "metadata": {},
   "source": [
    "### Win Horizon"
   ]
  },
  {
   "cell_type": "code",
   "execution_count": 84,
   "metadata": {},
   "outputs": [
    {
     "name": "stdout",
     "output_type": "stream",
     "text": [
      "X O X \n",
      "X X X \n",
      "O X O \n"
     ]
    },
    {
     "data": {
      "text/plain": [
       "True"
      ]
     },
     "execution_count": 84,
     "metadata": {},
     "output_type": "execute_result"
    }
   ],
   "source": [
    "games = [X,O,X,X,X,X,O,X,O]\n",
    "printTable(games)\n",
    "checkWin(games)"
   ]
  },
  {
   "cell_type": "markdown",
   "metadata": {},
   "source": [
    "## BOT"
   ]
  },
  {
   "cell_type": "code",
   "execution_count": 99,
   "metadata": {},
   "outputs": [],
   "source": [
    "def bot(i):\n",
    "#     games = [K,K,K,K,K,K,K,K,K]\n",
    "    contoh = range(9)\n",
    "    printTable(contoh)\n",
    "    printTable(games)\n",
    "    nomination = []\n",
    "    print(i)\n",
    "    if(equal(games[up(i)],K)):\n",
    "        print('atas')\n",
    "        if(not equal(up(i),False)):\n",
    "            nomination.append(up(i))\n",
    "    if(equal(games[down(i)],K)):\n",
    "        print('bawah')\n",
    "        if(not equal(down(i),False)):\n",
    "            nomination.append(down(i))\n",
    "    if(equal(games[right(i)],K)):\n",
    "        print('kanan')\n",
    "        if(not equal(right(i),False)):\n",
    "            nomination.append(right(i))\n",
    "    if(equal(games[left(i)],K)):\n",
    "        print('kiri')\n",
    "        if(not equal(left(i),False)):\n",
    "            nomination.append(left(i))\n",
    "    if(equal(games[lup(i)],K)):\n",
    "        print('kiri atas')\n",
    "        if(not equal(lup(i),False)):\n",
    "            nomination.append(lup(i))\n",
    "    if(equal(games[rup(i)],K)):\n",
    "        print('kanan atas')\n",
    "        if(not equal(rup(i),False)):\n",
    "            nomination.append(rup(i))\n",
    "    if(equal(games[lown(i)],K)):\n",
    "        print('kiri bawah')\n",
    "        if(not equal(lown(i),False)):\n",
    "            nomination.append(lown(i))\n",
    "    if(equal(games[rown(i)],K)):\n",
    "        print('kanan bawah')\n",
    "        if(not equal(rown(i),False)):\n",
    "            nomination.append(rown(i))\n",
    "    print(nomination)\n",
    "    r = rd.choice(nomination)\n",
    "    print(r)\n",
    "    print('----')\n",
    "    return r"
   ]
  },
  {
   "cell_type": "markdown",
   "metadata": {},
   "source": [
    "## Main"
   ]
  },
  {
   "cell_type": "code",
   "execution_count": 121,
   "metadata": {},
   "outputs": [
    {
     "name": "stdout",
     "output_type": "stream",
     "text": [
      "step 1\n",
      "player 1 ( O ) jalan\n",
      "      \n",
      "O     \n",
      "      \n",
      "step 2\n",
      "player 2 ( X ) jalan\n",
      "0 1 2 \n",
      "3 4 5 \n",
      "6 7 8 \n",
      "      \n",
      "O     \n",
      "      \n",
      "3\n",
      "atas\n",
      "bawah\n",
      "kanan\n",
      "kiri\n",
      "kiri atas\n",
      "kanan atas\n",
      "kiri bawah\n",
      "kanan bawah\n",
      "[6, 4, 1, 7]\n",
      "4\n",
      "----\n",
      "      \n",
      "O X   \n",
      "      \n",
      "step 3\n",
      "player 1 ( O ) jalan\n",
      "0 1 2 \n",
      "3 4 5 \n",
      "6 7 8 \n",
      "      \n",
      "O X   \n",
      "      \n",
      "4\n",
      "atas\n",
      "bawah\n",
      "kanan\n",
      "kiri atas\n",
      "kanan atas\n",
      "kiri bawah\n",
      "kanan bawah\n",
      "[1, 7, 5, 2, 6, 8]\n",
      "5\n",
      "----\n",
      "      \n",
      "O X O \n",
      "      \n",
      "step 4\n",
      "player 2 ( X ) jalan\n",
      "0 1 2 \n",
      "3 4 5 \n",
      "6 7 8 \n",
      "      \n",
      "O X O \n",
      "      \n",
      "5\n",
      "atas\n",
      "bawah\n",
      "kanan\n",
      "kiri atas\n",
      "kanan atas\n",
      "kiri bawah\n",
      "kanan bawah\n",
      "[2, 8, 1, 7]\n",
      "8\n",
      "----\n",
      "      \n",
      "O X O \n",
      "    X \n",
      "step 5\n",
      "player 1 ( O ) jalan\n",
      "0 1 2 \n",
      "3 4 5 \n",
      "6 7 8 \n",
      "      \n",
      "O X O \n",
      "    X \n",
      "8\n",
      "bawah\n",
      "kanan\n",
      "kiri\n",
      "kanan atas\n",
      "kiri bawah\n",
      "kanan bawah\n",
      "[7]\n",
      "7\n",
      "----\n",
      "      \n",
      "O X O \n",
      "  O X \n",
      "step 6\n",
      "player 2 ( X ) jalan\n",
      "0 1 2 \n",
      "3 4 5 \n",
      "6 7 8 \n",
      "      \n",
      "O X O \n",
      "  O X \n",
      "7\n",
      "bawah\n",
      "kiri\n",
      "kiri bawah\n",
      "kanan bawah\n",
      "[6]\n",
      "6\n",
      "----\n",
      "      \n",
      "O X O \n",
      "X O X \n",
      "step 7\n",
      "player 1 ( O ) jalan\n",
      "0 1 2 \n",
      "3 4 5 \n",
      "6 7 8 \n",
      "      \n",
      "O X O \n",
      "X O X \n",
      "6\n",
      "bawah\n",
      "kiri\n",
      "kiri atas\n",
      "kiri bawah\n",
      "kanan bawah\n",
      "[]\n"
     ]
    },
    {
     "ename": "IndexError",
     "evalue": "Cannot choose from an empty sequence",
     "output_type": "error",
     "traceback": [
      "\u001b[1;31m---------------------------------------------------------------------------\u001b[0m",
      "\u001b[1;31mIndexError\u001b[0m                                Traceback (most recent call last)",
      "\u001b[1;32m<ipython-input-121-2acada78dcc7>\u001b[0m in \u001b[0;36m<module>\u001b[1;34m\u001b[0m\n\u001b[0;32m     16\u001b[0m             \u001b[0mvalcon\u001b[0m \u001b[1;33m=\u001b[0m \u001b[0mfirst\u001b[0m\u001b[1;33m\u001b[0m\u001b[1;33m\u001b[0m\u001b[0m\n\u001b[0;32m     17\u001b[0m         \u001b[1;32melse\u001b[0m\u001b[1;33m:\u001b[0m\u001b[1;33m\u001b[0m\u001b[1;33m\u001b[0m\u001b[0m\n\u001b[1;32m---> 18\u001b[1;33m             \u001b[0mvalcon\u001b[0m \u001b[1;33m=\u001b[0m \u001b[0mbot\u001b[0m\u001b[1;33m(\u001b[0m\u001b[0mvalcon\u001b[0m\u001b[1;33m)\u001b[0m\u001b[1;33m\u001b[0m\u001b[1;33m\u001b[0m\u001b[0m\n\u001b[0m\u001b[0;32m     19\u001b[0m         \u001b[1;32mif\u001b[0m\u001b[1;33m(\u001b[0m\u001b[0mgames\u001b[0m\u001b[1;33m[\u001b[0m\u001b[0mvalcon\u001b[0m\u001b[1;33m]\u001b[0m \u001b[1;33m==\u001b[0m \u001b[0mK\u001b[0m\u001b[1;33m)\u001b[0m\u001b[1;33m:\u001b[0m\u001b[1;33m\u001b[0m\u001b[1;33m\u001b[0m\u001b[0m\n\u001b[0;32m     20\u001b[0m             \u001b[1;32mbreak\u001b[0m\u001b[1;33m\u001b[0m\u001b[1;33m\u001b[0m\u001b[0m\n",
      "\u001b[1;32m<ipython-input-99-b2eed2bdc060>\u001b[0m in \u001b[0;36mbot\u001b[1;34m(i)\u001b[0m\n\u001b[0;32m     39\u001b[0m             \u001b[0mnomination\u001b[0m\u001b[1;33m.\u001b[0m\u001b[0mappend\u001b[0m\u001b[1;33m(\u001b[0m\u001b[0mrown\u001b[0m\u001b[1;33m(\u001b[0m\u001b[0mi\u001b[0m\u001b[1;33m)\u001b[0m\u001b[1;33m)\u001b[0m\u001b[1;33m\u001b[0m\u001b[1;33m\u001b[0m\u001b[0m\n\u001b[0;32m     40\u001b[0m     \u001b[0mprint\u001b[0m\u001b[1;33m(\u001b[0m\u001b[0mnomination\u001b[0m\u001b[1;33m)\u001b[0m\u001b[1;33m\u001b[0m\u001b[1;33m\u001b[0m\u001b[0m\n\u001b[1;32m---> 41\u001b[1;33m     \u001b[0mr\u001b[0m \u001b[1;33m=\u001b[0m \u001b[0mrd\u001b[0m\u001b[1;33m.\u001b[0m\u001b[0mchoice\u001b[0m\u001b[1;33m(\u001b[0m\u001b[0mnomination\u001b[0m\u001b[1;33m)\u001b[0m\u001b[1;33m\u001b[0m\u001b[1;33m\u001b[0m\u001b[0m\n\u001b[0m\u001b[0;32m     42\u001b[0m     \u001b[0mprint\u001b[0m\u001b[1;33m(\u001b[0m\u001b[0mr\u001b[0m\u001b[1;33m)\u001b[0m\u001b[1;33m\u001b[0m\u001b[1;33m\u001b[0m\u001b[0m\n\u001b[0;32m     43\u001b[0m     \u001b[0mprint\u001b[0m\u001b[1;33m(\u001b[0m\u001b[1;34m'----'\u001b[0m\u001b[1;33m)\u001b[0m\u001b[1;33m\u001b[0m\u001b[1;33m\u001b[0m\u001b[0m\n",
      "\u001b[1;32mC:\\ProgramData\\Anaconda3\\lib\\random.py\u001b[0m in \u001b[0;36mchoice\u001b[1;34m(self, seq)\u001b[0m\n\u001b[0;32m    259\u001b[0m             \u001b[0mi\u001b[0m \u001b[1;33m=\u001b[0m \u001b[0mself\u001b[0m\u001b[1;33m.\u001b[0m\u001b[0m_randbelow\u001b[0m\u001b[1;33m(\u001b[0m\u001b[0mlen\u001b[0m\u001b[1;33m(\u001b[0m\u001b[0mseq\u001b[0m\u001b[1;33m)\u001b[0m\u001b[1;33m)\u001b[0m\u001b[1;33m\u001b[0m\u001b[1;33m\u001b[0m\u001b[0m\n\u001b[0;32m    260\u001b[0m         \u001b[1;32mexcept\u001b[0m \u001b[0mValueError\u001b[0m\u001b[1;33m:\u001b[0m\u001b[1;33m\u001b[0m\u001b[1;33m\u001b[0m\u001b[0m\n\u001b[1;32m--> 261\u001b[1;33m             \u001b[1;32mraise\u001b[0m \u001b[0mIndexError\u001b[0m\u001b[1;33m(\u001b[0m\u001b[1;34m'Cannot choose from an empty sequence'\u001b[0m\u001b[1;33m)\u001b[0m \u001b[1;32mfrom\u001b[0m \u001b[1;32mNone\u001b[0m\u001b[1;33m\u001b[0m\u001b[1;33m\u001b[0m\u001b[0m\n\u001b[0m\u001b[0;32m    262\u001b[0m         \u001b[1;32mreturn\u001b[0m \u001b[0mseq\u001b[0m\u001b[1;33m[\u001b[0m\u001b[0mi\u001b[0m\u001b[1;33m]\u001b[0m\u001b[1;33m\u001b[0m\u001b[1;33m\u001b[0m\u001b[0m\n\u001b[0;32m    263\u001b[0m \u001b[1;33m\u001b[0m\u001b[0m\n",
      "\u001b[1;31mIndexError\u001b[0m: Cannot choose from an empty sequence"
     ]
    }
   ],
   "source": [
    "games = [K,K,K,K,K,K,K,K,K]\n",
    "contoh = [1,2,3,4,5,6,7,8,9]\n",
    "iPLayer = rd.choice(player)\n",
    "step = 1\n",
    "first = rd.randrange(0,9)\n",
    "while(not checkWin(games) and not checkFull(games)):\n",
    "    print('step',step)\n",
    "    print('player',iPLayer,'(',gaco(iPLayer),')','jalan')\n",
    "    while True:\n",
    "#         val = input('input 1-9:')\n",
    "#         valcon = int(val)\n",
    "#         valcon = \n",
    "\n",
    "#         valcon = valcon-1\n",
    "        if(step == 1):\n",
    "            valcon = first\n",
    "        else:\n",
    "            valcon = bot(valcon)\n",
    "        if(games[valcon] == K):\n",
    "            break\n",
    "    isi(valcon,iPLayer)\n",
    "    iPLayer = gantian(iPLayer)\n",
    "#     clear_output()\n",
    "#     printTable(contoh)\n",
    "    printTable(games)\n",
    "    step+=1\n",
    "print(checkWin(games))"
   ]
  },
  {
   "cell_type": "code",
   "execution_count": null,
   "metadata": {},
   "outputs": [],
   "source": []
  }
 ],
 "metadata": {
  "kernelspec": {
   "display_name": "Python 3",
   "language": "python",
   "name": "python3"
  },
  "language_info": {
   "codemirror_mode": {
    "name": "ipython",
    "version": 3
   },
   "file_extension": ".py",
   "mimetype": "text/x-python",
   "name": "python",
   "nbconvert_exporter": "python",
   "pygments_lexer": "ipython3",
   "version": "3.7.4"
  }
 },
 "nbformat": 4,
 "nbformat_minor": 4
}
